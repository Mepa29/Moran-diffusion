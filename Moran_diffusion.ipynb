{
  "nbformat": 4,
  "nbformat_minor": 0,
  "metadata": {
    "colab": {
      "provenance": []
    },
    "kernelspec": {
      "name": "python3",
      "display_name": "Python 3"
    },
    "language_info": {
      "name": "python"
    }
  },
  "cells": [
    {
      "cell_type": "code",
      "execution_count": 1,
      "metadata": {
        "id": "rWhqT1Li5xiY"
      },
      "outputs": [],
      "source": [
        "import numpy as np\n",
        "import random\n",
        "import networkx as nx\n",
        "import matplotlib.pyplot as plt\n",
        "import time\n",
        "\n",
        "def nNumber(G,r,step):\n",
        "    n=len(G)\n",
        "    z=n\n",
        "    t=0\n",
        "    s=0\n",
        "    M_array=np.zeros(step)\n",
        "    M={random.randint(0,n-1)}\n",
        "    D={j for j in range(0,n)}\n",
        "    R=D-M;u=0\n",
        "    while u<step:\n",
        "        i=len(M)\n",
        "        k=random.random()\n",
        "        s+=1\n",
        "        if k<(i*r)/(n-i+i*r):\n",
        "            ch=random.sample(M,1)\n",
        "            NE=[n for n in G.neighbors(ch[0])]\n",
        "            chh=random.sample(NE,1)\n",
        "            if chh[0]  in R:\n",
        "                M.add(chh[0])\n",
        "                R.remove(chh[0])\n",
        "                t+=1\n",
        "\n",
        "        elif (i*r)/(n-i+i*r)<k<(i*(r+1))/(n-i+i*r):\n",
        "            chre=random.sample(R,1)\n",
        "            NEre=[n for n in G.neighbors(chre[0])]\n",
        "            chhre=random.sample(NEre,1)\n",
        "            if chhre[0]  in M:\n",
        "                R.add(chhre[0])\n",
        "                M.remove(chhre[0])\n",
        "                t+=1\n",
        "        M_array[u]=len(M)/n\n",
        "        u=u+1\n",
        "\n",
        "    return(t,s,M_array)\n",
        "\n",
        "\n",
        "###Extracting fixation time\n",
        "\n",
        "#t1=time.time()\n",
        "num=100            #number of iterations with different initial conditions\n",
        "step=10000         #number of timesteps in simulation\n",
        "size=10            #number of nodes\n",
        "r=2                #fitness\n",
        "#a=nx.random_tree(size,seed=0);\n",
        "G=nx.from_numpy_matrix(a)\n",
        "fix_time=[]\n",
        "for h in range (num):\n",
        "    t,s,m=nNumber(G,r,step)\n",
        "    for ttt in range(len(m)):\n",
        "        if m[ttt]==m[-1]:\n",
        "            fix_time.append(ttt)\n",
        "            break\n",
        "    np.savetxt('mut_time'+str(h)+'.dat',m)"
      ]
    },
    {
      "cell_type": "code",
      "source": [],
      "metadata": {
        "id": "vHYxotXl5ypL"
      },
      "execution_count": 1,
      "outputs": []
    }
  ]
}